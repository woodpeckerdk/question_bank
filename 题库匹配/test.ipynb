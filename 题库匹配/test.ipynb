{
 "cells": [
  {
   "cell_type": "code",
   "execution_count": 5,
   "metadata": {},
   "outputs": [],
   "source": [
    "import pandas as pd\n"
   ]
  },
  {
   "cell_type": "code",
   "execution_count": 6,
   "metadata": {},
   "outputs": [
    {
     "data": {
      "text/html": [
       "<div>\n",
       "<style scoped>\n",
       "    .dataframe tbody tr th:only-of-type {\n",
       "        vertical-align: middle;\n",
       "    }\n",
       "\n",
       "    .dataframe tbody tr th {\n",
       "        vertical-align: top;\n",
       "    }\n",
       "\n",
       "    .dataframe thead th {\n",
       "        text-align: right;\n",
       "    }\n",
       "</style>\n",
       "<table border=\"1\" class=\"dataframe\">\n",
       "  <thead>\n",
       "    <tr style=\"text-align: right;\">\n",
       "      <th></th>\n",
       "      <th>题干</th>\n",
       "      <th>内容</th>\n",
       "    </tr>\n",
       "  </thead>\n",
       "  <tbody>\n",
       "    <tr>\n",
       "      <th>0</th>\n",
       "      <td>中国的首都是哪里</td>\n",
       "      <td>A.北京\\nB.上海\\nC.广州\\nD.深圳\\n答案：A</td>\n",
       "    </tr>\n",
       "    <tr>\n",
       "      <th>1</th>\n",
       "      <td>世界上最大的大洲是</td>\n",
       "      <td>A.亚洲\\nB.非洲 \\nC.南美洲\\nD.欧洲\\n答案:A.亚洲</td>\n",
       "    </tr>\n",
       "    <tr>\n",
       "      <th>2</th>\n",
       "      <td>下列哪种情况不是应用组织扩张器的适应症</td>\n",
       "      <td>A.斑秃性脱发\\nB.前胸瘢痕疙瘩\\nC.全鼻再造\\nD.颈部瘢痕挛缩\\nE.阴囊再造\\n答案：B</td>\n",
       "    </tr>\n",
       "  </tbody>\n",
       "</table>\n",
       "</div>"
      ],
      "text/plain": [
       "                    题干                                                 内容\n",
       "0             中国的首都是哪里                       A.北京\\nB.上海\\nC.广州\\nD.深圳\\n答案：A\n",
       "1            世界上最大的大洲是                  A.亚洲\\nB.非洲 \\nC.南美洲\\nD.欧洲\\n答案:A.亚洲\n",
       "2  下列哪种情况不是应用组织扩张器的适应症  A.斑秃性脱发\\nB.前胸瘢痕疙瘩\\nC.全鼻再造\\nD.颈部瘢痕挛缩\\nE.阴囊再造\\n答案：B"
      ]
     },
     "execution_count": 6,
     "metadata": {},
     "output_type": "execute_result"
    }
   ],
   "source": [
    "df=pd.read_csv('question_base.csv')\n",
    "df"
   ]
  },
  {
   "cell_type": "code",
   "execution_count": 2,
   "metadata": {},
   "outputs": [],
   "source": [
    "import qrcode "
   ]
  },
  {
   "cell_type": "code",
   "execution_count": 3,
   "metadata": {},
   "outputs": [],
   "source": [
    "url=\"https://dengkai.fun/postButHide/2025-07-23-科内业务学习（前列腺癌）\"\n",
    "img=qrcode.make(url)\n",
    "img.save('qrcode.png')"
   ]
  }
 ],
 "metadata": {
  "kernelspec": {
   "display_name": "Python 3",
   "language": "python",
   "name": "python3"
  },
  "language_info": {
   "codemirror_mode": {
    "name": "ipython",
    "version": 3
   },
   "file_extension": ".py",
   "mimetype": "text/x-python",
   "name": "python",
   "nbconvert_exporter": "python",
   "pygments_lexer": "ipython3",
   "version": "3.12.2"
  }
 },
 "nbformat": 4,
 "nbformat_minor": 2
}
